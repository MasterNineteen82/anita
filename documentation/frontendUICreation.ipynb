{
 "cells": [
  {
   "cell_type": "markdown",
   "id": "55f12635",
   "metadata": {},
   "source": [
    "# ANITA Frontend UI Development Guide\n",
    "\n",
    "## 1. Introduction\n",
    "\n",
    "This guide provides comprehensive instructions for developing new UI components for the ANITA (Advanced NFC, Identification & Technology Authentication) platform. It covers the creation of webpages, CSS styling, JavaScript functionality, and integration with backend dependencies.\n",
    "\n",
    "## 2. Development Environment Setup\n",
    "\n",
    "### 2.1 Prerequisites\n",
    "\n",
    "- ✅ Node.js and npm installed\n",
    "- ✅ Python environment for backend integration\n",
    "- ✅ Code editor (VSCode recommended)\n",
    "- ⬜ Linting and formatting tools configuration\n",
    "\n",
    "### 2.2 Local Setup"
   ]
  },
  {
   "cell_type": "code",
   "execution_count": null,
   "id": "f40393ec",
   "metadata": {},
   "outputs": [],
   "source": [
    "%%bash\n",
    "# Clone the repository (if not already done)\n",
    "git clone <repository-url>\n",
    "\n",
    "# Navigate to project directory\n",
    "cd anita/poc\n",
    "\n",
    "# Install frontend dependencies\n",
    "cd frontend\n",
    "npm install\n",
    "\n",
    "# Start development server\n",
    "npm run dev"
   ]
  },
  {
   "cell_type": "markdown",
   "id": "ec26ca9e",
   "metadata": {},
   "source": [
    "## 3. Project Structure"
   ]
  },
  {
   "cell_type": "code",
   "execution_count": null,
   "id": "8389aef9",
   "metadata": {},
   "outputs": [],
   "source": [
    "%%markdown\n",
    "frontend/\n",
    "├── static/\n",
    "│   ├── css/                # CSS files\n",
    "│   │   ├── components/     # Component-specific styles\n",
    "│   │   ├── custom.css      # Main CSS file (pre-Tailwind processing)\n",
    "│   │   └── output.css      # Compiled Tailwind output\n",
    "│   ├── js/\n",
    "│   │   ├── components/     # Reusable JS components\n",
    "│   │   ├── core/           # Core functionality\n",
    "│   │   ├── pages/          # Page-specific scripts\n",
    "│   │   └── utils/          # Utility functions\n",
    "│   └── images/             # Image assets\n",
    "├── templates/              # HTML templates\n",
    "│   ├── components/         # Reusable template components\n",
    "│   └── pages/              # Page templates\n",
    "├── public/                 # Public static files\n",
    "├── package.json            # Frontend dependencies\n",
    "└── tailwind.config.js      # Tailwind configuration"
   ]
  },
  {
   "cell_type": "markdown",
   "id": "a3d23f5b",
   "metadata": {},
   "source": [
    "## 4. Creating New Pages\n",
    "\n",
    "### 4.1 Page Template Creation\n",
    "\n",
    "1. Create a new HTML file in `frontend/templates/` or extend an existing template:"
   ]
  },
  {
   "cell_type": "code",
   "execution_count": null,
   "id": "b5bd77de",
   "metadata": {},
   "outputs": [],
   "source": [
    "%%html\n",
    "{% extends \"base.html\" %}\n",
    "\n",
    "{% block title %}New Feature | ANITA{% endblock %}\n",
    "\n",
    "{% block page_css %}\n",
    "<link rel=\"stylesheet\" href=\"/static/css/components/your-feature.css\">\n",
    "{% endblock %}\n",
    "\n",
    "{% block content %}\n",
    "<div class=\"container\">\n",
    "    <h1 class=\"text-2xl font-bold mb-4\">Your New Feature</h1>\n",
    "    \n",
    "    <!-- Main content -->\n",
    "    <div class=\"bg-gray-800 rounded-lg p-4\">\n",
    "        <!-- Feature-specific content -->\n",
    "    </div>\n",
    "</div>\n",
    "{% endblock %}\n",
    "\n",
    "{% block page_scripts %}\n",
    "<script type=\"module\" src=\"/static/js/pages/your-feature.js\"></script>\n",
    "{% endblock %}"
   ]
  },
  {
   "cell_type": "markdown",
   "id": "a15191fb",
   "metadata": {},
   "source": [
    "### 4.2 Backend Route Integration\n",
    "\n",
    "Add a route in the backend API:"
   ]
  },
  {
   "cell_type": "code",
   "execution_count": null,
   "id": "9f1e067b",
   "metadata": {},
   "outputs": [],
   "source": [
    "%%python\n",
    "@app.route('/your-feature')\n",
    "def your_feature():\n",
    "        return render_template('your-feature.html')"
   ]
  },
  {
   "cell_type": "markdown",
   "id": "e31feb14",
   "metadata": {},
   "source": [
    "### 4.3 Navigation Link\n",
    "\n",
    "Update the navbar component to include your new page:"
   ]
  },
  {
   "cell_type": "code",
   "execution_count": null,
   "id": "2a83f4bc",
   "metadata": {},
   "outputs": [],
   "source": [
    "%%html\n",
    "<!-- In frontend/templates/components/navbar.html -->\n",
    "<a href=\"/your-feature\" class=\"nav-link {% if request.path == '/your-feature' %}active{% endif %}\">\n",
    "    <i class=\"fas fa-your-icon\"></i> Your Feature\n",
    "</a>"
   ]
  },
  {
   "cell_type": "markdown",
   "id": "9db147ff",
   "metadata": {},
   "source": [
    "## 5. CSS Styling\n",
    "\n",
    "### 5.1 TailwindCSS Usage\n",
    "\n",
    "- ✅ Use Tailwind utility classes for consistent styling\n",
    "- ✅ Follow the established color scheme (dark mode is default)\n",
    "- ✅ Ensure responsive design with mobile-first approach"
   ]
  },
  {
   "cell_type": "code",
   "execution_count": null,
   "id": "fddd2a2f",
   "metadata": {},
   "outputs": [],
   "source": [
    "%%html\n",
    "<!-- Example responsive card component -->\n",
    "<div class=\"bg-gray-800 rounded-lg shadow-md p-4 md:p-6 mb-4\">\n",
    "    <h2 class=\"text-xl md:text-2xl font-semibold text-white mb-2\">Card Title</h2>\n",
    "    <p class=\"text-gray-300 text-sm md:text-base\">Card content goes here</p>\n",
    "</div>"
   ]
  },
  {
   "cell_type": "markdown",
   "id": "d2fcda1c",
   "metadata": {},
   "source": [
    "### 5.2 Custom Styling\n",
    "\n",
    "For component-specific styles, create a new CSS file in `frontend/static/css/components/`:\n",
    "\n",
    "```css\n",
    "/* frontend/static/css/components/your-feature.css */\n",
    ".feature-specific-element {\n",
    "    border: 1px solid rgba(255, 255, 255, 0.1);\n",
    "    transition: all 0.3s ease;\n",
    "}\n",
    "\n",
    ".feature-specific-element:hover {\n",
    "    background-color: rgba(255, 255, 255, 0.05);\n",
    "}\n",
    "```\n",
    "\n",
    "### 5.3 Style Standardization\n",
    "\n",
    "- ✅ Use consistent spacing (4px increments)\n",
    "- ✅ Follow color scheme: primary (#07182E), cyan (#00b7ff), magenta (#FF30FF)\n",
    "- ✅ Maintain consistent text sizes and font weights\n",
    "- ✅ Use established component patterns for cards, buttons, and form elements\n",
    "\n",
    "## 6. JavaScript Development\n",
    "\n",
    "### 6.1 Creating Page Controllers\n",
    "\n",
    "Create a JavaScript file in `frontend/static/js/pages/`:"
   ]
  },
  {
   "cell_type": "code",
   "execution_count": null,
   "id": "0f8bfca9",
   "metadata": {},
   "outputs": [],
   "source": [
    "// frontend/static/js/pages/your-feature.js\n",
    "import UI from '/static/js/utils/ui.js';\n",
    "import logger from '/static/js/utils/logger.js';\n",
    "\n",
    "document.addEventListener('DOMContentLoaded', () => {\n",
    "    // Initialize page elements\n",
    "    const featureContainer = document.getElementById('feature-container');\n",
    "    const actionButton = document.getElementById('action-button');\n",
    "    \n",
    "    // Set up event listeners\n",
    "    actionButton.addEventListener('click', handleAction);\n",
    "    \n",
    "    // Initialize UI components\n",
    "    initializeUI();\n",
    "    \n",
    "    // Log page load\n",
    "    logger.info('Your feature page loaded');\n",
    "});\n",
    "\n",
    "function initializeUI() {\n",
    "    // Initialize UI components\n",
    "}\n",
    "\n",
    "function handleAction() {\n",
    "    try {\n",
    "        // Handle action\n",
    "        UI.showToast('Action performed successfully', 'success');\n",
    "    } catch (error) {\n",
    "        logger.error('Error performing action', { error });\n",
    "        UI.showToast('Error performing action', 'error');\n",
    "    }\n",
    "}"
   ]
  },
  {
   "cell_type": "markdown",
   "id": "8b89daae",
   "metadata": {},
   "source": [
    "### 6.2 API Integration\n",
    "\n",
    "To connect with backend APIs:"
   ]
  },
  {
   "cell_type": "code",
   "execution_count": null,
   "id": "2dea5b4e",
   "metadata": {},
   "outputs": [],
   "source": [
    "async function fetchData() {\n",
    "    try {\n",
    "        const response = await fetch('/api/your-endpoint');\n",
    "        if (!response.ok) {\n",
    "            throw new Error(`HTTP error! Status: ${response.status}`);\n",
    "        }\n",
    "        const data = await response.json();\n",
    "        return data;\n",
    "    } catch (error) {\n",
    "        logger.error('Error fetching data', { error });\n",
    "        UI.showToast('Failed to load data', 'error');\n",
    "        return null;\n",
    "    }\n",
    "}"
   ]
  },
  {
   "cell_type": "markdown",
   "id": "02645fba",
   "metadata": {},
   "source": [
    "### 6.3 WebSocket Integration\n",
    "\n",
    "For real-time features:"
   ]
  },
  {
   "cell_type": "code",
   "execution_count": null,
   "id": "5d02b120",
   "metadata": {},
   "outputs": [],
   "source": [
    "function connectWebSocket() {\n",
    "    const socket = new WebSocket(`ws://${window.location.host}/ws/your-feature`);\n",
    "    \n",
    "    socket.onopen = () => {\n",
    "        logger.info('WebSocket connected');\n",
    "        updateConnectionStatus('connected');\n",
    "    };\n",
    "    \n",
    "    socket.onmessage = (event) => {\n",
    "        const data = JSON.parse(event.data);\n",
    "        handleWebSocketMessage(data);\n",
    "    };\n",
    "    \n",
    "    socket.onclose = () => {\n",
    "        logger.info('WebSocket disconnected');\n",
    "        updateConnectionStatus('disconnected');\n",
    "        // Attempt to reconnect after delay\n",
    "        setTimeout(connectWebSocket, 3000);\n",
    "    };\n",
    "    \n",
    "    socket.onerror = (error) => {\n",
    "        logger.error('WebSocket error', { error });\n",
    "        updateConnectionStatus('error');\n",
    "    };\n",
    "    \n",
    "    return socket;\n",
    "}"
   ]
  },
  {
   "cell_type": "markdown",
   "id": "df116236",
   "metadata": {},
   "source": [
    "## 7. Component Standardization\n",
    "\n",
    "### 7.1 UI Components\n",
    "\n",
    "Use established UI components for consistency:"
   ]
  },
  {
   "cell_type": "code",
   "execution_count": null,
   "id": "c291b6a5",
   "metadata": {},
   "outputs": [],
   "source": [
    "// Show a confirmation dialog\n",
    "UI.showConfirmation(\n",
    "    'Are you sure you want to perform this action?',\n",
    "    'This cannot be undone',\n",
    "    () => performAction(),  // onConfirm\n",
    "    () => cancelAction()    // onCancel\n",
    ");\n",
    "\n",
    "// Show a toast notification\n",
    "UI.showToast('Operation successful!', 'success');\n",
    "\n",
    "// Show loading state\n",
    "UI.showLoading('Processing...');\n",
    "UI.hideLoading();"
   ]
  },
  {
   "cell_type": "markdown",
   "id": "d428ec8e",
   "metadata": {},
   "source": [
    "### 7.2 Card Standardization\n",
    "\n",
    "Use the CardStandardizer utility for consistent card styling:"
   ]
  },
  {
   "cell_type": "code",
   "execution_count": null,
   "id": "2870ee47",
   "metadata": {},
   "outputs": [],
   "source": [
    "%%html\n",
    "<div class=\"card standardized-card\">\n",
    "    <div class=\"card-header\">\n",
    "        <h3>Card Title</h3>\n",
    "    </div>\n",
    "    <div class=\"card-body\">\n",
    "        Content goes here\n",
    "    </div>\n",
    "    <div class=\"card-footer\">\n",
    "        <button class=\"btn-primary\">Action</button>\n",
    "    </div>\n",
    "</div>"
   ]
  },
  {
   "cell_type": "code",
   "execution_count": null,
   "id": "606272b6",
   "metadata": {},
   "outputs": [],
   "source": [
    "// Initialize all cards on the page\n",
    "document.addEventListener('DOMContentLoaded', () => {\n",
    "    CardStandardizer.init();\n",
    "});"
   ]
  },
  {
   "cell_type": "markdown",
   "id": "0d3064c0",
   "metadata": {},
   "source": [
    "## 8. Backend Integration\n",
    "\n",
    "### 8.1 API Endpoints\n",
    "\n",
    "When creating new features that require backend APIs:\n",
    "\n",
    "#### 8.1.1 Define endpoint in the backend"
   ]
  },
  {
   "cell_type": "code",
   "execution_count": null,
   "id": "106ab839",
   "metadata": {},
   "outputs": [],
   "source": [
    "%%python\n",
    "@app.route('/api/your-endpoint', methods=['GET', 'POST'])\n",
    "def your_endpoint():\n",
    "        if request.method == 'POST':\n",
    "                data = request.json\n",
    "                # Process data\n",
    "                return jsonify({\"status\": \"success\", \"message\": \"Data processed\"})\n",
    "        else:\n",
    "                # Return data\n",
    "                return jsonify({\"status\": \"success\", \"data\": [...]})"
   ]
  },
  {
   "cell_type": "markdown",
   "id": "e5223e96",
   "metadata": {},
   "source": [
    "#### 8.1.2 Consume endpoint in the frontend"
   ]
  },
  {
   "cell_type": "code",
   "execution_count": null,
   "id": "076102e8",
   "metadata": {},
   "outputs": [],
   "source": [
    "// GET request\n",
    "const data = await fetch('/api/your-endpoint').then(res => res.json());\n",
    "\n",
    "// POST request\n",
    "const response = await fetch('/api/your-endpoint', {\n",
    "    method: 'POST',\n",
    "    headers: {\n",
    "        'Content-Type': 'application/json'\n",
    "    },\n",
    "    body: JSON.stringify({ key: 'value' })\n",
    "}).then(res => res.json());"
   ]
  },
  {
   "cell_type": "markdown",
   "id": "a4b726a5",
   "metadata": {},
   "source": [
    "### 8.2 WebSocket Setup\n",
    "\n",
    "For real-time features, configure WebSocket in the backend:"
   ]
  },
  {
   "cell_type": "code",
   "execution_count": null,
   "id": "1001a288",
   "metadata": {},
   "outputs": [],
   "source": [
    "%%python\n",
    "@app.websocket('/ws/your-feature')\n",
    "async def your_feature_ws(websocket):\n",
    "        await websocket.accept()\n",
    "        try:\n",
    "                while True:\n",
    "                        # Handle incoming messages\n",
    "                        data = await websocket.receive_json()\n",
    "                        # Process data and send response\n",
    "                        await websocket.send_json({\n",
    "                                \"type\": \"update\",\n",
    "                                \"data\": processed_data\n",
    "                        })\n",
    "        except WebSocketDisconnect:\n",
    "                # Handle disconnect\n",
    "                pass"
   ]
  },
  {
   "cell_type": "markdown",
   "id": "02f0a551",
   "metadata": {},
   "source": [
    "## 9. Testing & Debugging\n",
    "\n",
    "### 9.1 Frontend Testing\n",
    "\n",
    "- ✅ Test in multiple browsers (Chrome, Firefox, Edge)\n",
    "- ✅ Test responsive design with mobile view\n",
    "- ✅ Verify all event handlers work correctly\n",
    "- ✅ Check console for JavaScript errors\n",
    "- ⬜ Implement automated unit tests\n",
    "\n",
    "### 9.2 Debugging Tools\n",
    "\n",
    "- ✅ Use browser developer tools for debugging\n",
    "- ✅ Utilize `logger.debug()`, `logger.info()`, `logger.error()`\n",
    "- ✅ Test API endpoints with API Manager\n",
    "\n",
    "## 10. Feature Implementation Checklist\n",
    "\n",
    "### 10.1 Initial Setup\n",
    "\n",
    "- [ ] Define feature requirements and functionality\n",
    "- [ ] Plan UI components and layout\n",
    "- [ ] Identify required API endpoints\n",
    "\n",
    "### 10.2 Frontend Implementation\n",
    "\n",
    "- [ ] Create HTML template\n",
    "- [ ] Implement CSS styling\n",
    "- [ ] Develop JavaScript functionality\n",
    "- [ ] Connect to API endpoints\n",
    "- [ ] Implement WebSocket integration (if needed)\n",
    "- [ ] Add error handling and loading states\n",
    "\n",
    "### 10.3 Testing & Validation\n",
    "\n",
    "- [ ] Test functionality in development environment\n",
    "- [ ] Verify responsive design\n",
    "- [ ] Test with simulated backend responses\n",
    "- [ ] Check error handling scenarios\n",
    "\n",
    "## 11. Current Status\n",
    "\n",
    "### 11.1 Completed Features\n",
    "\n",
    "- ✅ Core UI framework with TailwindCSS\n",
    "- ✅ Dashboard with system status monitoring\n",
    "- ✅ API Manager for endpoint testing\n",
    "- ✅ UWB Manager for device positioning\n",
    "- ✅ Card interface with standardization\n",
    "- ✅ WebSocket integration for real-time updates\n",
    "- ✅ Logger utility for debugging\n",
    "- ✅ UI utility with toast, modal, and loading indicators\n",
    "- ✅ Error handling and user feedback\n",
    "- ✅ Responsive design for multiple screen sizes\n",
    "\n",
    "### 11.2 Pending Developments\n",
    "\n",
    "- ⬜ Authentication and user management\n",
    "- ⬜ Comprehensive unit testing\n",
    "- ⬜ Build process optimization\n",
    "- ⬜ Full accessibility implementation\n",
    "- ⬜ Documentation generator for API endpoints\n",
    "- ⬜ Advanced visualization components\n",
    "- ⬜ Plugin system for extensibility\n",
    "- ⬜ Offline operation support\n",
    "- ⬜ Advanced form validation\n",
    "\n",
    "## 12. Best Practices\n",
    "\n",
    "1. Follow established patterns in existing code\n",
    "2. Use consistent naming conventions\n",
    "3. Keep components modular and reusable\n",
    "4. Document your code with JSDoc comments\n",
    "5. Implement proper error handling\n",
    "6. Use logger instead of console.log\n",
    "7. Test with both real and simulated data\n",
    "8. Consider accessibility in UI design\n",
    "9. Optimize performance by minimizing DOM manipulations\n",
    "10. Utilize the CardStandardizer and buttonFixer utilities\n",
    "\n",
    "## 13. Additional Resources\n",
    "\n",
    "- [TailwindCSS Documentation](https://tailwindcss.com/docs)\n",
    "- [JavaScript MDN Reference](https://developer.mozilla.org/en-US/docs/Web/JavaScript)\n",
    "- [WebSocket API](https://developer.mozilla.org/en-US/docs/Web/API/WebSockets_API)\n",
    "- Internal Documentation:\n",
    "  - [Frontend Development Guide](/documentation/frontenddevelopment.md)\n",
    "  - [WebSocket Guide](/documentation/websocketguide.md)\n",
    "  - [Full Stack Overview](/documentation/fullstackoverview.md)"
   ]
  }
 ],
 "metadata": {
  "jupytext": {
   "cell_metadata_filter": "-all",
   "main_language": "javascript",
   "notebook_metadata_filter": "-all"
  }
 },
 "nbformat": 4,
 "nbformat_minor": 5
}
